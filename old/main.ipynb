{
 "cells": [
  {
   "cell_type": "code",
   "execution_count": 27,
   "id": "b7594d42",
   "metadata": {},
   "outputs": [
    {
     "name": "stdout",
     "output_type": "stream",
     "text": [
      "{(0, 0): 1, (0, 1): 2, (0, 2): 3, (1, 0): 4, (1, 1): 5, (1, 2): 6, (2, 0): 7, (2, 1): 8, (2, 2): 9}\n",
      "----------- Welcome to Tic - Tac - Toe (Aman Meena) -----------\n",
      "\n",
      "\n",
      "\t\t 1 | 2 | 3 \n",
      "\t\t___ ___ ___\n",
      "\t\t 4 | 5 | 6 \n",
      "\t\t___ ___ ___\n",
      "\t\t 7 | 8 | 9 \n"
     ]
    }
   ],
   "source": [
    "import random\n",
    "\n",
    "COLS = 3\n",
    "ROWS = 3\n",
    "\n",
    "no_dict = {}\n",
    "n = 1\n",
    "for i in range(COLS):\n",
    "    for j in range(ROWS):\n",
    "        no_dict[(i, j)] = n\n",
    "        n += 1\n",
    "print(no_dict)\n",
    "        \n",
    "arr = [\n",
    "    [0, 0, 0],\n",
    "    [0, 0, 0],\n",
    "    [0, 0, 0],\n",
    "]\n",
    "\n",
    "turn = 0\n",
    "\n",
    "def main():\n",
    "    while True:\n",
    "        board()\n",
    "        break\n",
    "\n",
    "def board():\n",
    "    print(\"----------- Welcome to Tic - Tac - Toe (Aman Meena) -----------\")\n",
    "    \n",
    "    print(\"\\n\")\n",
    "\n",
    "    # print the board\n",
    "    place = 'no'\n",
    "    for col in range(COLS):\n",
    "        print(\"\\t\\t\", end=\"\")\n",
    "        for row in range(ROWS):\n",
    "            temp = arr[col][row]\n",
    "            \n",
    "            if temp == 0:\n",
    "                if row == 0:\n",
    "                    print(f\" {no_dict[(col, row)]} |\", end=\"\")\n",
    "                elif row == 1:\n",
    "                    print(f\" {no_dict[(col, row)]} |\", end=\"\")\n",
    "                else:\n",
    "                    print(f\" {no_dict[(col, row)]} \", end=\"\")\n",
    "                \n",
    "            elif temp == 1:\n",
    "                if row == 0:\n",
    "                    print(f\" X |\", end=\"\")\n",
    "                \n",
    "            elif temp == 2:\n",
    "                if row == 0:\n",
    "                    print(f\" O |\", end=\"\")\n",
    "        print()\n",
    "        if not(col == 2):\n",
    "            print(\"\\t\\t___ ___ ___\")\n",
    "        \n",
    "        \n",
    "    \n",
    "                \n",
    "\n",
    "\n",
    "\n",
    "def checkWin():\n",
    "    pass\n",
    "\n",
    "if __name__ == \"__main__\":\n",
    "    main()"
   ]
  }
 ],
 "metadata": {
  "kernelspec": {
   "display_name": "Python 3 (ipykernel)",
   "language": "python",
   "name": "python3"
  },
  "language_info": {
   "codemirror_mode": {
    "name": "ipython",
    "version": 3
   },
   "file_extension": ".py",
   "mimetype": "text/x-python",
   "name": "python",
   "nbconvert_exporter": "python",
   "pygments_lexer": "ipython3",
   "version": "3.9.7"
  }
 },
 "nbformat": 4,
 "nbformat_minor": 5
}
